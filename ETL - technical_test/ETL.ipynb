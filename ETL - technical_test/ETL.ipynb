{
 "cells": [
  {
   "cell_type": "markdown",
   "metadata": {},
   "source": [
    "# Prueba Project Manager Finanzas\n",
    "\n",
    "Usted es Project Manager de Finanzas y se encuentra liderando un proyecto para analizar la situación financiera de la industria bancaria chilena. Dispone de información que ha sido obtenida de la CMF correspondiente al cierre de Abril de 2023, y se le ha encomendado generar un reporte que describa el balance de los 5 principales bancos del país (Santander, Banco de Chile, Banco BCI, Banco Estado, Scotiabank).\n",
    "\n",
    "## Objetivo del Desafío:\n",
    "\n",
    "1. Generar un proceso Python para extraer la información de los archivos `b1202304xxx.txt`, donde `b1` tipifica al archivo como balance de situación, luego `202304` indica el período de la información, y los últimos 3 dígitos (marcados como `xxx`) corresponden al id de la institución financiera.\n",
    "\n",
    "2. Generar un reporte Excel con el resultado del proceso Python. Ver template adjunto.\n",
    "\n",
    "    ### 2.1. Hoja data:\n",
    "    \n",
    "    En esta hoja debe consolidar la extracción de la información de los 5 bancos bajo análisis. Cada línea registrada debe seguir el siguiente formato.\n",
    "    \n",
    "    | Periodo | Institución Financiera | Cuenta contable | Saldo CLP | Saldo UF | Saldo USD | Saldo otras monedas |\n",
    "    \n",
    "    ### 2.2. Hoja reporte balance:\n",
    "\n",
    "    En esta hoja, En esta hoja debe consolidar el total de los saldos según cuenta contable. Para lo cual en la celda C4 se debe ingresar el nombre de la institución financiera, de forma tal que automáticamente se actualice la columna saldo del reporte. Ver template adjunto.\n"
   ]
  },
  {
   "cell_type": "code",
   "execution_count": 1,
   "metadata": {},
   "outputs": [],
   "source": [
    "#libraries\n",
    "import pandas as pd\n",
    "import numpy as np"
   ]
  },
  {
   "cell_type": "code",
   "execution_count": 2,
   "metadata": {},
   "outputs": [],
   "source": [
    "bancos = [\n",
    "    'b1202304001', #Banco de Chile\n",
    "    'b1202304037', #Santander\n",
    "    'b1202304016', #Estado\n",
    "    'b1202304012', #BCI\n",
    "    'b1202304014'  #Scotiabank\n",
    "]"
   ]
  },
  {
   "cell_type": "code",
   "execution_count": 3,
   "metadata": {},
   "outputs": [],
   "source": [
    "dfs = {} # Diccionario de dataframes\n",
    "df_names = {0:'Cuenta_contable', 1:'Saldo_CLP',2:'Saldo_UF',3:'Saldo_USD',4:'Saldo_otras_monedas', 'Archivo':'Archivo', 'Banco':'Banco'}\n",
    "\n",
    "for banco in bancos:\n",
    "    ruta = f'./PruebaPM/{banco}.txt' # Ruta del archivo CSV\n",
    "    df = pd.read_csv(ruta, sep=\"\\t\", header=None, names=range(5), encoding='latin1') # Leer el archivo CSV sin el header\n",
    "    df['Archivo'] = banco\n",
    "    df['Banco'] = df.iloc[0,0]\n",
    "    df = df.iloc[1:, :] # Eliminar la primera fila\n",
    "\n",
    "    dfs[banco] = df # Agregar el dataframe al diccionario\n",
    "\n",
    "df_final = pd.concat(dfs.values(), ignore_index=True) # Concatenar los dataframes\n",
    "df_final.rename(columns=df_names, inplace=True)\n",
    "\n",
    "df_final = df_final.applymap(lambda x: x.strip() if isinstance(x, str) else x)\n",
    "df_final.iloc[:, :4] = df_final.iloc[:, :4].replace(',', '.', regex=True).astype(float)\n",
    "df_final.iloc[:, :4] = df_final.iloc[:, :4].astype(float)\n"
   ]
  },
  {
   "cell_type": "code",
   "execution_count": 4,
   "metadata": {},
   "outputs": [],
   "source": [
    "df_final['Periodo'] = df_final['Archivo'].str.extract(r'b1(\\d{6})') #Extrae el periodo de la fecha de archivo\n",
    "df_final['Banco'] = df_final['Banco'].str.extract(r'\\b (.*)') # Extrae todo despues del primer espacio\n",
    "\n",
    "df_final['Periodo'] = pd.to_datetime(df_final['Periodo'], format='%Y%m')# convertir periodo a tipo fecha\n",
    "df_final['Periodo'] = df_final['Periodo'].dt.strftime('%Y-%m')\n",
    "\n",
    "df_final = df_final.drop(df_final.columns[5], axis=1)# quitar columna Archivo"
   ]
  },
  {
   "cell_type": "code",
   "execution_count": 5,
   "metadata": {},
   "outputs": [
    {
     "data": {
      "text/html": [
       "<div>\n",
       "<style scoped>\n",
       "    .dataframe tbody tr th:only-of-type {\n",
       "        vertical-align: middle;\n",
       "    }\n",
       "\n",
       "    .dataframe tbody tr th {\n",
       "        vertical-align: top;\n",
       "    }\n",
       "\n",
       "    .dataframe thead th {\n",
       "        text-align: right;\n",
       "    }\n",
       "</style>\n",
       "<table border=\"1\" class=\"dataframe\">\n",
       "  <thead>\n",
       "    <tr style=\"text-align: right;\">\n",
       "      <th></th>\n",
       "      <th>Cuenta_contable</th>\n",
       "      <th>Saldo_CLP</th>\n",
       "      <th>Saldo_UF</th>\n",
       "      <th>Saldo_USD</th>\n",
       "      <th>Saldo_otras_monedas</th>\n",
       "      <th>Banco</th>\n",
       "      <th>Periodo</th>\n",
       "    </tr>\n",
       "  </thead>\n",
       "  <tbody>\n",
       "    <tr>\n",
       "      <th>0</th>\n",
       "      <td>100000000.0</td>\n",
       "      <td>28444728250232.0</td>\n",
       "      <td>20128453882100.0</td>\n",
       "      <td>117300798857.0</td>\n",
       "      <td>6694297877237,00</td>\n",
       "      <td>BANCO DE CHILE</td>\n",
       "      <td>2023-04</td>\n",
       "    </tr>\n",
       "    <tr>\n",
       "      <th>1</th>\n",
       "      <td>105000000.0</td>\n",
       "      <td>1059628254454.0</td>\n",
       "      <td>0.0</td>\n",
       "      <td>0.0</td>\n",
       "      <td>2016638137886,00</td>\n",
       "      <td>BANCO DE CHILE</td>\n",
       "      <td>2023-04</td>\n",
       "    </tr>\n",
       "    <tr>\n",
       "      <th>2</th>\n",
       "      <td>105000100.0</td>\n",
       "      <td>823187780235.0</td>\n",
       "      <td>0.0</td>\n",
       "      <td>0.0</td>\n",
       "      <td>0059105027666,00</td>\n",
       "      <td>BANCO DE CHILE</td>\n",
       "      <td>2023-04</td>\n",
       "    </tr>\n",
       "    <tr>\n",
       "      <th>3</th>\n",
       "      <td>105000101.0</td>\n",
       "      <td>192860234135.0</td>\n",
       "      <td>0.0</td>\n",
       "      <td>0.0</td>\n",
       "      <td>0059105027666,00</td>\n",
       "      <td>BANCO DE CHILE</td>\n",
       "      <td>2023-04</td>\n",
       "    </tr>\n",
       "    <tr>\n",
       "      <th>4</th>\n",
       "      <td>105000102.0</td>\n",
       "      <td>630327546100.0</td>\n",
       "      <td>0.0</td>\n",
       "      <td>0.0</td>\n",
       "      <td>0000000000000,00</td>\n",
       "      <td>BANCO DE CHILE</td>\n",
       "      <td>2023-04</td>\n",
       "    </tr>\n",
       "  </tbody>\n",
       "</table>\n",
       "</div>"
      ],
      "text/plain": [
       "  Cuenta_contable         Saldo_CLP          Saldo_UF       Saldo_USD  \\\n",
       "0     100000000.0  28444728250232.0  20128453882100.0  117300798857.0   \n",
       "1     105000000.0   1059628254454.0               0.0             0.0   \n",
       "2     105000100.0    823187780235.0               0.0             0.0   \n",
       "3     105000101.0    192860234135.0               0.0             0.0   \n",
       "4     105000102.0    630327546100.0               0.0             0.0   \n",
       "\n",
       "  Saldo_otras_monedas           Banco  Periodo  \n",
       "0    6694297877237,00  BANCO DE CHILE  2023-04  \n",
       "1    2016638137886,00  BANCO DE CHILE  2023-04  \n",
       "2    0059105027666,00  BANCO DE CHILE  2023-04  \n",
       "3    0059105027666,00  BANCO DE CHILE  2023-04  \n",
       "4    0000000000000,00  BANCO DE CHILE  2023-04  "
      ]
     },
     "execution_count": 5,
     "metadata": {},
     "output_type": "execute_result"
    }
   ],
   "source": [
    "df_final.head()"
   ]
  },
  {
   "cell_type": "code",
   "execution_count": 6,
   "metadata": {},
   "outputs": [],
   "source": [
    "df_final.to_csv('resutaldo.csv', sep=';', index=False)"
   ]
  }
 ],
 "metadata": {
  "kernelspec": {
   "display_name": "base",
   "language": "python",
   "name": "python3"
  },
  "language_info": {
   "codemirror_mode": {
    "name": "ipython",
    "version": 3
   },
   "file_extension": ".py",
   "mimetype": "text/x-python",
   "name": "python",
   "nbconvert_exporter": "python",
   "pygments_lexer": "ipython3",
   "version": "3.11.5"
  },
  "orig_nbformat": 4
 },
 "nbformat": 4,
 "nbformat_minor": 2
}
